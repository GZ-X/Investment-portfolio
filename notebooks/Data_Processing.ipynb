{
 "cells": [
  {
   "cell_type": "code",
   "execution_count": 6,
   "metadata": {
    "collapsed": true
   },
   "outputs": [],
   "source": [
    "import pandas as pd\n",
    "import numpy as np\n",
    "import matplotlib.pyplot as plt\n",
    "from pandas.tseries.offsets import *\n",
    "from scipy import stats\n",
    "%matplotlib inline"
   ]
  },
  {
   "cell_type": "code",
   "execution_count": 7,
   "metadata": {
    "collapsed": true
   },
   "outputs": [],
   "source": [
    "DATA_DIR = \"../../Data_for_invest/\"\n",
    "CRSP = \"CRSP_stocks.csv\"\n",
    "ACCOUNTING = 'Compusta.csv'\n",
    "MARKET = \"market.csv\"\n",
    "CRSPNEW = 'crspNew.csv'\n",
    "NEWCRSP = 'NewData.csv'"
   ]
  },
  {
   "cell_type": "code",
   "execution_count": 8,
   "metadata": {
    "collapsed": true
   },
   "outputs": [],
   "source": [
    "#Read new data\n",
    "newcrsp = pd.read_csv(DATA_DIR+NEWCRSP,low_memory =False)"
   ]
  },
  {
   "cell_type": "code",
   "execution_count": 9,
   "metadata": {},
   "outputs": [
    {
     "data": {
      "text/html": [
       "<div>\n",
       "<style scoped>\n",
       "    .dataframe tbody tr th:only-of-type {\n",
       "        vertical-align: middle;\n",
       "    }\n",
       "\n",
       "    .dataframe tbody tr th {\n",
       "        vertical-align: top;\n",
       "    }\n",
       "\n",
       "    .dataframe thead th {\n",
       "        text-align: right;\n",
       "    }\n",
       "</style>\n",
       "<table border=\"1\" class=\"dataframe\">\n",
       "  <thead>\n",
       "    <tr style=\"text-align: right;\">\n",
       "      <th></th>\n",
       "      <th>PERMNO</th>\n",
       "      <th>date</th>\n",
       "      <th>NAMEENDT</th>\n",
       "      <th>SHRCD</th>\n",
       "      <th>EXCHCD</th>\n",
       "      <th>SICCD</th>\n",
       "      <th>NCUSIP</th>\n",
       "      <th>TICKER</th>\n",
       "      <th>COMNAM</th>\n",
       "      <th>PERMCO</th>\n",
       "      <th>CUSIP</th>\n",
       "      <th>PRC</th>\n",
       "      <th>VOL</th>\n",
       "      <th>RET</th>\n",
       "      <th>ASK</th>\n",
       "      <th>SHROUT</th>\n",
       "      <th>CFACPR</th>\n",
       "      <th>CFACSHR</th>\n",
       "      <th>vwretd</th>\n",
       "      <th>ewretd</th>\n",
       "    </tr>\n",
       "  </thead>\n",
       "  <tbody>\n",
       "    <tr>\n",
       "      <th>0</th>\n",
       "      <td>10001</td>\n",
       "      <td>1989/01/31</td>\n",
       "      <td>NaN</td>\n",
       "      <td>11.0</td>\n",
       "      <td>3.0</td>\n",
       "      <td>4920</td>\n",
       "      <td>39040610</td>\n",
       "      <td>GFGC</td>\n",
       "      <td>GREAT FALLS GAS CO</td>\n",
       "      <td>7953</td>\n",
       "      <td>36720410</td>\n",
       "      <td>6.500</td>\n",
       "      <td>252.0</td>\n",
       "      <td>0.019608</td>\n",
       "      <td>6.50</td>\n",
       "      <td>998.0</td>\n",
       "      <td>3.0</td>\n",
       "      <td>3.0</td>\n",
       "      <td>0.066103</td>\n",
       "      <td>0.062124</td>\n",
       "    </tr>\n",
       "    <tr>\n",
       "      <th>1</th>\n",
       "      <td>10001</td>\n",
       "      <td>1989/02/28</td>\n",
       "      <td>NaN</td>\n",
       "      <td>11.0</td>\n",
       "      <td>3.0</td>\n",
       "      <td>4920</td>\n",
       "      <td>39040610</td>\n",
       "      <td>GFGC</td>\n",
       "      <td>GREAT FALLS GAS CO</td>\n",
       "      <td>7953</td>\n",
       "      <td>36720410</td>\n",
       "      <td>6.750</td>\n",
       "      <td>417.0</td>\n",
       "      <td>0.038462</td>\n",
       "      <td>6.75</td>\n",
       "      <td>998.0</td>\n",
       "      <td>3.0</td>\n",
       "      <td>3.0</td>\n",
       "      <td>-0.016446</td>\n",
       "      <td>0.002988</td>\n",
       "    </tr>\n",
       "    <tr>\n",
       "      <th>2</th>\n",
       "      <td>10001</td>\n",
       "      <td>1989/03/31</td>\n",
       "      <td>NaN</td>\n",
       "      <td>11.0</td>\n",
       "      <td>3.0</td>\n",
       "      <td>4920</td>\n",
       "      <td>39040610</td>\n",
       "      <td>GFGC</td>\n",
       "      <td>GREAT FALLS GAS CO</td>\n",
       "      <td>7953</td>\n",
       "      <td>36720410</td>\n",
       "      <td>6.750</td>\n",
       "      <td>241.0</td>\n",
       "      <td>0.017778</td>\n",
       "      <td>7.00</td>\n",
       "      <td>998.0</td>\n",
       "      <td>3.0</td>\n",
       "      <td>3.0</td>\n",
       "      <td>0.021465</td>\n",
       "      <td>0.018060</td>\n",
       "    </tr>\n",
       "    <tr>\n",
       "      <th>3</th>\n",
       "      <td>10001</td>\n",
       "      <td>1989/04/28</td>\n",
       "      <td>NaN</td>\n",
       "      <td>11.0</td>\n",
       "      <td>3.0</td>\n",
       "      <td>4920</td>\n",
       "      <td>39040610</td>\n",
       "      <td>GFGC</td>\n",
       "      <td>GREAT FALLS GAS CO</td>\n",
       "      <td>7953</td>\n",
       "      <td>36720410</td>\n",
       "      <td>7.250</td>\n",
       "      <td>310.0</td>\n",
       "      <td>0.074074</td>\n",
       "      <td>7.50</td>\n",
       "      <td>998.0</td>\n",
       "      <td>3.0</td>\n",
       "      <td>3.0</td>\n",
       "      <td>0.048204</td>\n",
       "      <td>0.029089</td>\n",
       "    </tr>\n",
       "    <tr>\n",
       "      <th>4</th>\n",
       "      <td>10001</td>\n",
       "      <td>1989/05/31</td>\n",
       "      <td>NaN</td>\n",
       "      <td>11.0</td>\n",
       "      <td>3.0</td>\n",
       "      <td>4920</td>\n",
       "      <td>39040610</td>\n",
       "      <td>GFGC</td>\n",
       "      <td>GREAT FALLS GAS CO</td>\n",
       "      <td>7953</td>\n",
       "      <td>36720410</td>\n",
       "      <td>7.000</td>\n",
       "      <td>629.0</td>\n",
       "      <td>-0.034483</td>\n",
       "      <td>7.25</td>\n",
       "      <td>998.0</td>\n",
       "      <td>3.0</td>\n",
       "      <td>3.0</td>\n",
       "      <td>0.039338</td>\n",
       "      <td>0.025054</td>\n",
       "    </tr>\n",
       "    <tr>\n",
       "      <th>5</th>\n",
       "      <td>10001</td>\n",
       "      <td>1989/06/30</td>\n",
       "      <td>NaN</td>\n",
       "      <td>11.0</td>\n",
       "      <td>3.0</td>\n",
       "      <td>4920</td>\n",
       "      <td>39040610</td>\n",
       "      <td>GFGC</td>\n",
       "      <td>GREAT FALLS GAS CO</td>\n",
       "      <td>7953</td>\n",
       "      <td>36720410</td>\n",
       "      <td>7.000</td>\n",
       "      <td>200.0</td>\n",
       "      <td>0.017143</td>\n",
       "      <td>7.25</td>\n",
       "      <td>1001.0</td>\n",
       "      <td>3.0</td>\n",
       "      <td>3.0</td>\n",
       "      <td>-0.004866</td>\n",
       "      <td>-0.007744</td>\n",
       "    </tr>\n",
       "    <tr>\n",
       "      <th>6</th>\n",
       "      <td>10001</td>\n",
       "      <td>1989/07/31</td>\n",
       "      <td>NaN</td>\n",
       "      <td>11.0</td>\n",
       "      <td>3.0</td>\n",
       "      <td>4920</td>\n",
       "      <td>39040610</td>\n",
       "      <td>GFGC</td>\n",
       "      <td>GREAT FALLS GAS CO</td>\n",
       "      <td>7953</td>\n",
       "      <td>36720410</td>\n",
       "      <td>7.250</td>\n",
       "      <td>185.0</td>\n",
       "      <td>0.035714</td>\n",
       "      <td>7.50</td>\n",
       "      <td>1001.0</td>\n",
       "      <td>3.0</td>\n",
       "      <td>3.0</td>\n",
       "      <td>0.077131</td>\n",
       "      <td>0.031017</td>\n",
       "    </tr>\n",
       "    <tr>\n",
       "      <th>7</th>\n",
       "      <td>10001</td>\n",
       "      <td>1989/08/31</td>\n",
       "      <td>NaN</td>\n",
       "      <td>11.0</td>\n",
       "      <td>3.0</td>\n",
       "      <td>4920</td>\n",
       "      <td>39040610</td>\n",
       "      <td>GFGC</td>\n",
       "      <td>GREAT FALLS GAS CO</td>\n",
       "      <td>7953</td>\n",
       "      <td>36720410</td>\n",
       "      <td>9.250</td>\n",
       "      <td>836.0</td>\n",
       "      <td>0.275862</td>\n",
       "      <td>9.25</td>\n",
       "      <td>1001.0</td>\n",
       "      <td>3.0</td>\n",
       "      <td>3.0</td>\n",
       "      <td>0.022127</td>\n",
       "      <td>0.018626</td>\n",
       "    </tr>\n",
       "    <tr>\n",
       "      <th>8</th>\n",
       "      <td>10001</td>\n",
       "      <td>1989/09/29</td>\n",
       "      <td>NaN</td>\n",
       "      <td>11.0</td>\n",
       "      <td>3.0</td>\n",
       "      <td>4920</td>\n",
       "      <td>39040610</td>\n",
       "      <td>GFGC</td>\n",
       "      <td>GREAT FALLS GAS CO</td>\n",
       "      <td>7953</td>\n",
       "      <td>36720410</td>\n",
       "      <td>8.875</td>\n",
       "      <td>497.0</td>\n",
       "      <td>-0.027027</td>\n",
       "      <td>9.25</td>\n",
       "      <td>1019.0</td>\n",
       "      <td>3.0</td>\n",
       "      <td>3.0</td>\n",
       "      <td>-0.001474</td>\n",
       "      <td>0.005532</td>\n",
       "    </tr>\n",
       "    <tr>\n",
       "      <th>9</th>\n",
       "      <td>10001</td>\n",
       "      <td>1989/10/31</td>\n",
       "      <td>NaN</td>\n",
       "      <td>11.0</td>\n",
       "      <td>3.0</td>\n",
       "      <td>4920</td>\n",
       "      <td>39040610</td>\n",
       "      <td>GFGC</td>\n",
       "      <td>GREAT FALLS GAS CO</td>\n",
       "      <td>7953</td>\n",
       "      <td>36720410</td>\n",
       "      <td>9.500</td>\n",
       "      <td>2250.0</td>\n",
       "      <td>0.070423</td>\n",
       "      <td>9.50</td>\n",
       "      <td>1019.0</td>\n",
       "      <td>3.0</td>\n",
       "      <td>3.0</td>\n",
       "      <td>-0.029285</td>\n",
       "      <td>-0.049936</td>\n",
       "    </tr>\n",
       "  </tbody>\n",
       "</table>\n",
       "</div>"
      ],
      "text/plain": [
       "   PERMNO        date NAMEENDT  SHRCD  EXCHCD SICCD    NCUSIP TICKER  \\\n",
       "0   10001  1989/01/31      NaN   11.0     3.0  4920  39040610   GFGC   \n",
       "1   10001  1989/02/28      NaN   11.0     3.0  4920  39040610   GFGC   \n",
       "2   10001  1989/03/31      NaN   11.0     3.0  4920  39040610   GFGC   \n",
       "3   10001  1989/04/28      NaN   11.0     3.0  4920  39040610   GFGC   \n",
       "4   10001  1989/05/31      NaN   11.0     3.0  4920  39040610   GFGC   \n",
       "5   10001  1989/06/30      NaN   11.0     3.0  4920  39040610   GFGC   \n",
       "6   10001  1989/07/31      NaN   11.0     3.0  4920  39040610   GFGC   \n",
       "7   10001  1989/08/31      NaN   11.0     3.0  4920  39040610   GFGC   \n",
       "8   10001  1989/09/29      NaN   11.0     3.0  4920  39040610   GFGC   \n",
       "9   10001  1989/10/31      NaN   11.0     3.0  4920  39040610   GFGC   \n",
       "\n",
       "               COMNAM  PERMCO     CUSIP    PRC     VOL        RET   ASK  \\\n",
       "0  GREAT FALLS GAS CO    7953  36720410  6.500   252.0   0.019608  6.50   \n",
       "1  GREAT FALLS GAS CO    7953  36720410  6.750   417.0   0.038462  6.75   \n",
       "2  GREAT FALLS GAS CO    7953  36720410  6.750   241.0   0.017778  7.00   \n",
       "3  GREAT FALLS GAS CO    7953  36720410  7.250   310.0   0.074074  7.50   \n",
       "4  GREAT FALLS GAS CO    7953  36720410  7.000   629.0  -0.034483  7.25   \n",
       "5  GREAT FALLS GAS CO    7953  36720410  7.000   200.0   0.017143  7.25   \n",
       "6  GREAT FALLS GAS CO    7953  36720410  7.250   185.0   0.035714  7.50   \n",
       "7  GREAT FALLS GAS CO    7953  36720410  9.250   836.0   0.275862  9.25   \n",
       "8  GREAT FALLS GAS CO    7953  36720410  8.875   497.0  -0.027027  9.25   \n",
       "9  GREAT FALLS GAS CO    7953  36720410  9.500  2250.0   0.070423  9.50   \n",
       "\n",
       "   SHROUT  CFACPR  CFACSHR    vwretd    ewretd  \n",
       "0   998.0     3.0      3.0  0.066103  0.062124  \n",
       "1   998.0     3.0      3.0 -0.016446  0.002988  \n",
       "2   998.0     3.0      3.0  0.021465  0.018060  \n",
       "3   998.0     3.0      3.0  0.048204  0.029089  \n",
       "4   998.0     3.0      3.0  0.039338  0.025054  \n",
       "5  1001.0     3.0      3.0 -0.004866 -0.007744  \n",
       "6  1001.0     3.0      3.0  0.077131  0.031017  \n",
       "7  1001.0     3.0      3.0  0.022127  0.018626  \n",
       "8  1019.0     3.0      3.0 -0.001474  0.005532  \n",
       "9  1019.0     3.0      3.0 -0.029285 -0.049936  "
      ]
     },
     "execution_count": 9,
     "metadata": {},
     "output_type": "execute_result"
    }
   ],
   "source": [
    "newcrsp[:10]"
   ]
  },
  {
   "cell_type": "code",
   "execution_count": 3,
   "metadata": {
    "collapsed": true
   },
   "outputs": [],
   "source": [
    "#market = pd.read_csv(DATA_DIR+MARKET)"
   ]
  },
  {
   "cell_type": "code",
   "execution_count": 4,
   "metadata": {
    "collapsed": true
   },
   "outputs": [],
   "source": [
    "#crsp = pd.read_csv(DATA_DIR+CRSP)\n",
    "#accounting = pd.read_csv(DATA_DIR+ACCOUNTING)\n"
   ]
  },
  {
   "cell_type": "code",
   "execution_count": 10,
   "metadata": {
    "collapsed": true,
    "scrolled": true
   },
   "outputs": [],
   "source": [
    "crsp1=newcrsp[newcrsp['SHRCD']!=10.0]\n",
    "crsp1=newcrsp[newcrsp['SHRCD']!=11.0]"
   ]
  },
  {
   "cell_type": "code",
   "execution_count": 11,
   "metadata": {
    "collapsed": true,
    "scrolled": true
   },
   "outputs": [],
   "source": [
    "cleanedcrsp = newcrsp.drop(crsp1.index)"
   ]
  },
  {
   "cell_type": "code",
   "execution_count": 12,
   "metadata": {},
   "outputs": [
    {
     "name": "stdout",
     "output_type": "stream",
     "text": [
      "2611982 1809327\n"
     ]
    }
   ],
   "source": [
    "print(len(newcrsp),len(cleanedcrsp))"
   ]
  },
  {
   "cell_type": "code",
   "execution_count": 54,
   "metadata": {},
   "outputs": [
    {
     "name": "stdout",
     "output_type": "stream",
     "text": [
      "done!\n"
     ]
    }
   ],
   "source": [
    "for data in cleanedcrsp['SHRCD']:\n",
    "    if data == 10.0:\n",
    "        continue\n",
    "    elif data ==11.0:\n",
    "        continue\n",
    "    else:\n",
    "        print(data)\n",
    "print('done!')"
   ]
  },
  {
   "cell_type": "code",
   "execution_count": 16,
   "metadata": {
    "collapsed": true
   },
   "outputs": [],
   "source": [
    "cleanedcrsp.to_csv(DATA_DIR + 'crspNew.csv',index = False)"
   ]
  },
  {
   "cell_type": "code",
   "execution_count": null,
   "metadata": {
    "collapsed": true
   },
   "outputs": [],
   "source": [
    "def mergeData(crspNew,accounting):\n",
    "    dateArray = range(1989,2018) \n",
    "    for i,date in range(0, len(accounting)),dateArray:\n",
    "        if str(accounting.iloc[i]['datedate']).startswith(\"1989\"):\n",
    "            \n",
    "        \n",
    "            "
   ]
  },
  {
   "cell_type": "code",
   "execution_count": null,
   "metadata": {
    "collapsed": true,
    "scrolled": true
   },
   "outputs": [],
   "source": [
    "dateArray = range(1989,2018) \n",
    "for date1 in accounting['datadate']:\n",
    "    for date2 in dateArray:\n",
    "        if str(date1).startswith(str(date2)):\n",
    "            for date3 in crspNew['date']:\n",
    "                crspTemp = crspNew[crspNew['date']==date3]\n",
    "                "
   ]
  },
  {
   "cell_type": "code",
   "execution_count": 29,
   "metadata": {
    "collapsed": true,
    "scrolled": true
   },
   "outputs": [],
   "source": [
    "#Extract year from the data\n",
    "crspNew['crsp_year']=crspNew['date'].apply(lambda x: str(int(x/10000)))"
   ]
  },
  {
   "cell_type": "code",
   "execution_count": 30,
   "metadata": {
    "collapsed": true
   },
   "outputs": [],
   "source": [
    "#Extract year from the data\n",
    "accounting['acc_year'] = accounting['datadate'].apply(lambda x: str(int(x/10000)))"
   ]
  },
  {
   "cell_type": "code",
   "execution_count": 31,
   "metadata": {
    "collapsed": true
   },
   "outputs": [],
   "source": [
    "#Merge column 'acc_year' with 'cusip'\n",
    "accounting['year_with_ticker'] = accounting['acc_year']+accounting['tic']"
   ]
  },
  {
   "cell_type": "code",
   "execution_count": 32,
   "metadata": {
    "collapsed": true
   },
   "outputs": [],
   "source": [
    "#Merge column 'crsp_year' with 'CUSIP'\n",
    "crspNew['year_with_ticker'] = crspNew['crsp_year']+crspNew['TICKER']"
   ]
  },
  {
   "cell_type": "code",
   "execution_count": 33,
   "metadata": {
    "collapsed": true
   },
   "outputs": [],
   "source": [
    "MergedTable = pd.merge(crspNew,accounting, on='year_with_ticker', how='left')"
   ]
  },
  {
   "cell_type": "code",
   "execution_count": 34,
   "metadata": {},
   "outputs": [
    {
     "data": {
      "text/plain": [
       "Index(['PERMNO', 'date', 'SHRCD', 'TICKER', 'COMNAM', 'CUSIP', 'RET', 'ASK',\n",
       "       'SHROUT', 'vwretd', 'ewretd', 'sprtrn', 'crsp_year', 'year_with_ticker',\n",
       "       'gvkey', 'datadate', 'fyear', 'indfmt', 'consol', 'popsrc', 'datafmt',\n",
       "       'tic', 'cusip', 'conm', 'curcd', 'fyr', 'bkvlps', 'csho', 'dv', 'dvpd',\n",
       "       'epsfi', 'epspi', 'itcb', 'revt', 'teq', 'txdb', 'upstk', 'costat',\n",
       "       'dvpsp_f', 'acc_year'],\n",
       "      dtype='object')"
      ]
     },
     "execution_count": 34,
     "metadata": {},
     "output_type": "execute_result"
    }
   ],
   "source": [
    "MergedTable.columns"
   ]
  },
  {
   "cell_type": "code",
   "execution_count": 35,
   "metadata": {
    "collapsed": true
   },
   "outputs": [],
   "source": [
    "MergedTable.to_csv(DATA_DIR+'MergedTable.csv')"
   ]
  },
  {
   "cell_type": "code",
   "execution_count": 37,
   "metadata": {
    "scrolled": false
   },
   "outputs": [
    {
     "name": "stdout",
     "output_type": "stream",
     "text": [
      "   PERMNO      date  SHRCD TICKER              COMNAM     CUSIP        RET  \\\n",
      "0   10001  19890131   11.0   GFGC  GREAT FALLS GAS CO  36720410   0.019608   \n",
      "1   10001  19890228   11.0   GFGC  GREAT FALLS GAS CO  36720410   0.038462   \n",
      "2   10001  19890331   11.0   GFGC  GREAT FALLS GAS CO  36720410   0.017778   \n",
      "3   10001  19890428   11.0   GFGC  GREAT FALLS GAS CO  36720410   0.074074   \n",
      "4   10001  19890531   11.0   GFGC  GREAT FALLS GAS CO  36720410  -0.034483   \n",
      "\n",
      "    ASK  SHROUT    vwretd   ...     epsfi  epspi itcb revt  teq  txdb  upstk  \\\n",
      "0  6.50   998.0  0.066103   ...       NaN    NaN  NaN  NaN  NaN   NaN    NaN   \n",
      "1  6.75   998.0 -0.016446   ...       NaN    NaN  NaN  NaN  NaN   NaN    NaN   \n",
      "2  7.00   998.0  0.021465   ...       NaN    NaN  NaN  NaN  NaN   NaN    NaN   \n",
      "3  7.50   998.0  0.048204   ...       NaN    NaN  NaN  NaN  NaN   NaN    NaN   \n",
      "4  7.25   998.0  0.039338   ...       NaN    NaN  NaN  NaN  NaN   NaN    NaN   \n",
      "\n",
      "  costat dvpsp_f acc_year  \n",
      "0    NaN     NaN      NaN  \n",
      "1    NaN     NaN      NaN  \n",
      "2    NaN     NaN      NaN  \n",
      "3    NaN     NaN      NaN  \n",
      "4    NaN     NaN      NaN  \n",
      "\n",
      "[5 rows x 40 columns]\n"
     ]
    }
   ],
   "source": [
    "print(MergedTable.iloc[:5,:42])"
   ]
  },
  {
   "cell_type": "code",
   "execution_count": 55,
   "metadata": {
    "collapsed": true
   },
   "outputs": [],
   "source": [
    "MergedTable['tic'].fillna(0, inplace=True)\n"
   ]
  },
  {
   "cell_type": "code",
   "execution_count": 59,
   "metadata": {
    "collapsed": true
   },
   "outputs": [],
   "source": [
    "deleteData = MergedTable[MergedTable['tic']==0]\n"
   ]
  },
  {
   "cell_type": "code",
   "execution_count": 68,
   "metadata": {
    "collapsed": true
   },
   "outputs": [],
   "source": [
    "NewMergedData = MergedTable.drop(deleteData.index)"
   ]
  },
  {
   "cell_type": "code",
   "execution_count": 72,
   "metadata": {
    "collapsed": true
   },
   "outputs": [],
   "source": [
    "NewMergedData.to_csv(DATA_DIR+'NewMergedData.csv',index=False)"
   ]
  },
  {
   "cell_type": "code",
   "execution_count": 61,
   "metadata": {},
   "outputs": [
    {
     "data": {
      "text/html": [
       "<div>\n",
       "<style scoped>\n",
       "    .dataframe tbody tr th:only-of-type {\n",
       "        vertical-align: middle;\n",
       "    }\n",
       "\n",
       "    .dataframe tbody tr th {\n",
       "        vertical-align: top;\n",
       "    }\n",
       "\n",
       "    .dataframe thead th {\n",
       "        text-align: right;\n",
       "    }\n",
       "</style>\n",
       "<table border=\"1\" class=\"dataframe\">\n",
       "  <thead>\n",
       "    <tr style=\"text-align: right;\">\n",
       "      <th></th>\n",
       "      <th>PERMNO</th>\n",
       "      <th>date</th>\n",
       "      <th>NAMEENDT</th>\n",
       "      <th>SHRCD</th>\n",
       "      <th>EXCHCD</th>\n",
       "      <th>SICCD</th>\n",
       "      <th>NCUSIP</th>\n",
       "      <th>TICKER</th>\n",
       "      <th>COMNAM</th>\n",
       "      <th>PERMCO</th>\n",
       "      <th>CUSIP</th>\n",
       "      <th>PRC</th>\n",
       "      <th>VOL</th>\n",
       "      <th>RET</th>\n",
       "      <th>ASK</th>\n",
       "      <th>SHROUT</th>\n",
       "      <th>CFACPR</th>\n",
       "      <th>CFACSHR</th>\n",
       "      <th>vwretd</th>\n",
       "      <th>ewretd</th>\n",
       "    </tr>\n",
       "  </thead>\n",
       "  <tbody>\n",
       "    <tr>\n",
       "      <th>0</th>\n",
       "      <td>10001</td>\n",
       "      <td>1989-01-31</td>\n",
       "      <td>NaN</td>\n",
       "      <td>11</td>\n",
       "      <td>3</td>\n",
       "      <td>4920</td>\n",
       "      <td>39040610</td>\n",
       "      <td>GFGC</td>\n",
       "      <td>GREAT FALLS GAS CO</td>\n",
       "      <td>7953</td>\n",
       "      <td>36720410</td>\n",
       "      <td>6.500</td>\n",
       "      <td>252.0</td>\n",
       "      <td>0.019608</td>\n",
       "      <td>6.50</td>\n",
       "      <td>998.0</td>\n",
       "      <td>3.0</td>\n",
       "      <td>3.0</td>\n",
       "      <td>0.066103</td>\n",
       "      <td>0.062124</td>\n",
       "    </tr>\n",
       "    <tr>\n",
       "      <th>1</th>\n",
       "      <td>10001</td>\n",
       "      <td>1989-02-28</td>\n",
       "      <td>NaN</td>\n",
       "      <td>11</td>\n",
       "      <td>3</td>\n",
       "      <td>4920</td>\n",
       "      <td>39040610</td>\n",
       "      <td>GFGC</td>\n",
       "      <td>GREAT FALLS GAS CO</td>\n",
       "      <td>7953</td>\n",
       "      <td>36720410</td>\n",
       "      <td>6.750</td>\n",
       "      <td>417.0</td>\n",
       "      <td>0.038462</td>\n",
       "      <td>6.75</td>\n",
       "      <td>998.0</td>\n",
       "      <td>3.0</td>\n",
       "      <td>3.0</td>\n",
       "      <td>-0.016446</td>\n",
       "      <td>0.002988</td>\n",
       "    </tr>\n",
       "    <tr>\n",
       "      <th>2</th>\n",
       "      <td>10001</td>\n",
       "      <td>1989-03-31</td>\n",
       "      <td>NaN</td>\n",
       "      <td>11</td>\n",
       "      <td>3</td>\n",
       "      <td>4920</td>\n",
       "      <td>39040610</td>\n",
       "      <td>GFGC</td>\n",
       "      <td>GREAT FALLS GAS CO</td>\n",
       "      <td>7953</td>\n",
       "      <td>36720410</td>\n",
       "      <td>6.750</td>\n",
       "      <td>241.0</td>\n",
       "      <td>0.017778</td>\n",
       "      <td>7.00</td>\n",
       "      <td>998.0</td>\n",
       "      <td>3.0</td>\n",
       "      <td>3.0</td>\n",
       "      <td>0.021465</td>\n",
       "      <td>0.018060</td>\n",
       "    </tr>\n",
       "    <tr>\n",
       "      <th>3</th>\n",
       "      <td>10001</td>\n",
       "      <td>1989-04-28</td>\n",
       "      <td>NaN</td>\n",
       "      <td>11</td>\n",
       "      <td>3</td>\n",
       "      <td>4920</td>\n",
       "      <td>39040610</td>\n",
       "      <td>GFGC</td>\n",
       "      <td>GREAT FALLS GAS CO</td>\n",
       "      <td>7953</td>\n",
       "      <td>36720410</td>\n",
       "      <td>7.250</td>\n",
       "      <td>310.0</td>\n",
       "      <td>0.074074</td>\n",
       "      <td>7.50</td>\n",
       "      <td>998.0</td>\n",
       "      <td>3.0</td>\n",
       "      <td>3.0</td>\n",
       "      <td>0.048204</td>\n",
       "      <td>0.029089</td>\n",
       "    </tr>\n",
       "    <tr>\n",
       "      <th>4</th>\n",
       "      <td>10001</td>\n",
       "      <td>1989-05-31</td>\n",
       "      <td>NaN</td>\n",
       "      <td>11</td>\n",
       "      <td>3</td>\n",
       "      <td>4920</td>\n",
       "      <td>39040610</td>\n",
       "      <td>GFGC</td>\n",
       "      <td>GREAT FALLS GAS CO</td>\n",
       "      <td>7953</td>\n",
       "      <td>36720410</td>\n",
       "      <td>7.000</td>\n",
       "      <td>629.0</td>\n",
       "      <td>-0.034483</td>\n",
       "      <td>7.25</td>\n",
       "      <td>998.0</td>\n",
       "      <td>3.0</td>\n",
       "      <td>3.0</td>\n",
       "      <td>0.039338</td>\n",
       "      <td>0.025054</td>\n",
       "    </tr>\n",
       "    <tr>\n",
       "      <th>5</th>\n",
       "      <td>10001</td>\n",
       "      <td>1989-06-30</td>\n",
       "      <td>NaN</td>\n",
       "      <td>11</td>\n",
       "      <td>3</td>\n",
       "      <td>4920</td>\n",
       "      <td>39040610</td>\n",
       "      <td>GFGC</td>\n",
       "      <td>GREAT FALLS GAS CO</td>\n",
       "      <td>7953</td>\n",
       "      <td>36720410</td>\n",
       "      <td>7.000</td>\n",
       "      <td>200.0</td>\n",
       "      <td>0.017143</td>\n",
       "      <td>7.25</td>\n",
       "      <td>1001.0</td>\n",
       "      <td>3.0</td>\n",
       "      <td>3.0</td>\n",
       "      <td>-0.004866</td>\n",
       "      <td>-0.007744</td>\n",
       "    </tr>\n",
       "    <tr>\n",
       "      <th>6</th>\n",
       "      <td>10001</td>\n",
       "      <td>1989-07-31</td>\n",
       "      <td>NaN</td>\n",
       "      <td>11</td>\n",
       "      <td>3</td>\n",
       "      <td>4920</td>\n",
       "      <td>39040610</td>\n",
       "      <td>GFGC</td>\n",
       "      <td>GREAT FALLS GAS CO</td>\n",
       "      <td>7953</td>\n",
       "      <td>36720410</td>\n",
       "      <td>7.250</td>\n",
       "      <td>185.0</td>\n",
       "      <td>0.035714</td>\n",
       "      <td>7.50</td>\n",
       "      <td>1001.0</td>\n",
       "      <td>3.0</td>\n",
       "      <td>3.0</td>\n",
       "      <td>0.077131</td>\n",
       "      <td>0.031017</td>\n",
       "    </tr>\n",
       "    <tr>\n",
       "      <th>7</th>\n",
       "      <td>10001</td>\n",
       "      <td>1989-08-31</td>\n",
       "      <td>NaN</td>\n",
       "      <td>11</td>\n",
       "      <td>3</td>\n",
       "      <td>4920</td>\n",
       "      <td>39040610</td>\n",
       "      <td>GFGC</td>\n",
       "      <td>GREAT FALLS GAS CO</td>\n",
       "      <td>7953</td>\n",
       "      <td>36720410</td>\n",
       "      <td>9.250</td>\n",
       "      <td>836.0</td>\n",
       "      <td>0.275862</td>\n",
       "      <td>9.25</td>\n",
       "      <td>1001.0</td>\n",
       "      <td>3.0</td>\n",
       "      <td>3.0</td>\n",
       "      <td>0.022127</td>\n",
       "      <td>0.018626</td>\n",
       "    </tr>\n",
       "    <tr>\n",
       "      <th>8</th>\n",
       "      <td>10001</td>\n",
       "      <td>1989-09-29</td>\n",
       "      <td>NaN</td>\n",
       "      <td>11</td>\n",
       "      <td>3</td>\n",
       "      <td>4920</td>\n",
       "      <td>39040610</td>\n",
       "      <td>GFGC</td>\n",
       "      <td>GREAT FALLS GAS CO</td>\n",
       "      <td>7953</td>\n",
       "      <td>36720410</td>\n",
       "      <td>8.875</td>\n",
       "      <td>497.0</td>\n",
       "      <td>-0.027027</td>\n",
       "      <td>9.25</td>\n",
       "      <td>1019.0</td>\n",
       "      <td>3.0</td>\n",
       "      <td>3.0</td>\n",
       "      <td>-0.001474</td>\n",
       "      <td>0.005532</td>\n",
       "    </tr>\n",
       "    <tr>\n",
       "      <th>9</th>\n",
       "      <td>10001</td>\n",
       "      <td>1989-10-31</td>\n",
       "      <td>NaN</td>\n",
       "      <td>11</td>\n",
       "      <td>3</td>\n",
       "      <td>4920</td>\n",
       "      <td>39040610</td>\n",
       "      <td>GFGC</td>\n",
       "      <td>GREAT FALLS GAS CO</td>\n",
       "      <td>7953</td>\n",
       "      <td>36720410</td>\n",
       "      <td>9.500</td>\n",
       "      <td>2250.0</td>\n",
       "      <td>0.070423</td>\n",
       "      <td>9.50</td>\n",
       "      <td>1019.0</td>\n",
       "      <td>3.0</td>\n",
       "      <td>3.0</td>\n",
       "      <td>-0.029285</td>\n",
       "      <td>-0.049936</td>\n",
       "    </tr>\n",
       "  </tbody>\n",
       "</table>\n",
       "</div>"
      ],
      "text/plain": [
       "   PERMNO       date NAMEENDT  SHRCD  EXCHCD SICCD    NCUSIP TICKER  \\\n",
       "0   10001 1989-01-31      NaN     11       3  4920  39040610   GFGC   \n",
       "1   10001 1989-02-28      NaN     11       3  4920  39040610   GFGC   \n",
       "2   10001 1989-03-31      NaN     11       3  4920  39040610   GFGC   \n",
       "3   10001 1989-04-28      NaN     11       3  4920  39040610   GFGC   \n",
       "4   10001 1989-05-31      NaN     11       3  4920  39040610   GFGC   \n",
       "5   10001 1989-06-30      NaN     11       3  4920  39040610   GFGC   \n",
       "6   10001 1989-07-31      NaN     11       3  4920  39040610   GFGC   \n",
       "7   10001 1989-08-31      NaN     11       3  4920  39040610   GFGC   \n",
       "8   10001 1989-09-29      NaN     11       3  4920  39040610   GFGC   \n",
       "9   10001 1989-10-31      NaN     11       3  4920  39040610   GFGC   \n",
       "\n",
       "               COMNAM  PERMCO     CUSIP    PRC     VOL        RET   ASK  \\\n",
       "0  GREAT FALLS GAS CO    7953  36720410  6.500   252.0   0.019608  6.50   \n",
       "1  GREAT FALLS GAS CO    7953  36720410  6.750   417.0   0.038462  6.75   \n",
       "2  GREAT FALLS GAS CO    7953  36720410  6.750   241.0   0.017778  7.00   \n",
       "3  GREAT FALLS GAS CO    7953  36720410  7.250   310.0   0.074074  7.50   \n",
       "4  GREAT FALLS GAS CO    7953  36720410  7.000   629.0  -0.034483  7.25   \n",
       "5  GREAT FALLS GAS CO    7953  36720410  7.000   200.0   0.017143  7.25   \n",
       "6  GREAT FALLS GAS CO    7953  36720410  7.250   185.0   0.035714  7.50   \n",
       "7  GREAT FALLS GAS CO    7953  36720410  9.250   836.0   0.275862  9.25   \n",
       "8  GREAT FALLS GAS CO    7953  36720410  8.875   497.0  -0.027027  9.25   \n",
       "9  GREAT FALLS GAS CO    7953  36720410  9.500  2250.0   0.070423  9.50   \n",
       "\n",
       "   SHROUT  CFACPR  CFACSHR    vwretd    ewretd  \n",
       "0   998.0     3.0      3.0  0.066103  0.062124  \n",
       "1   998.0     3.0      3.0 -0.016446  0.002988  \n",
       "2   998.0     3.0      3.0  0.021465  0.018060  \n",
       "3   998.0     3.0      3.0  0.048204  0.029089  \n",
       "4   998.0     3.0      3.0  0.039338  0.025054  \n",
       "5  1001.0     3.0      3.0 -0.004866 -0.007744  \n",
       "6  1001.0     3.0      3.0  0.077131  0.031017  \n",
       "7  1001.0     3.0      3.0  0.022127  0.018626  \n",
       "8  1019.0     3.0      3.0 -0.001474  0.005532  \n",
       "9  1019.0     3.0      3.0 -0.029285 -0.049936  "
      ]
     },
     "execution_count": 61,
     "metadata": {},
     "output_type": "execute_result"
    }
   ],
   "source": [
    "crsp_m[:10]"
   ]
  },
  {
   "cell_type": "code",
   "execution_count": 13,
   "metadata": {
    "collapsed": true
   },
   "outputs": [],
   "source": [
    "#1\n",
    "#Start point of processing of mergeddata\n",
    "cleanedcrsp[['PERMCO','PERMNO','SHRCD','EXCHCD']]=\\\n",
    "    cleanedcrsp[['PERMCO','PERMNO','SHRCD','EXCHCD']].astype(int)\n",
    "\n",
    "# Line up date to be end of month\n",
    "cleanedcrsp['date']=pd.to_datetime(cleanedcrsp['date'])"
   ]
  },
  {
   "cell_type": "code",
   "execution_count": 14,
   "metadata": {
    "collapsed": true
   },
   "outputs": [],
   "source": [
    "date = pd.DataFrame({'date': ['1909/12/04', '1987/12/31', '2007/04/09', '2017/12/01'],\n",
    "                    'A': ['A0', 'A1', 'A2', 'A3'], \n",
    "                    'B': ['B0', 'B1', 'B2', 'B3']})\n",
    "datetime = pd.to_datetime(date['date'])"
   ]
  },
  {
   "cell_type": "code",
   "execution_count": 16,
   "metadata": {
    "collapsed": true
   },
   "outputs": [],
   "source": [
    "crsp_m = cleanedcrsp"
   ]
  },
  {
   "cell_type": "code",
   "execution_count": 17,
   "metadata": {},
   "outputs": [
    {
     "name": "stdout",
     "output_type": "stream",
     "text": [
      "Index(['PERMNO', 'date', 'NAMEENDT', 'SHRCD', 'EXCHCD', 'SICCD', 'NCUSIP',\n",
      "       'TICKER', 'COMNAM', 'PERMCO', 'CUSIP', 'PRC', 'VOL', 'RET', 'ASK',\n",
      "       'SHROUT', 'CFACPR', 'CFACSHR', 'vwretd', 'ewretd'],\n",
      "      dtype='object')\n"
     ]
    }
   ],
   "source": [
    "#2\n",
    "print(crsp_m.columns)"
   ]
  },
  {
   "cell_type": "code",
   "execution_count": 18,
   "metadata": {
    "collapsed": true
   },
   "outputs": [],
   "source": [
    "#3\n",
    "J = 6 # Formation Period Length: J can be between 3 to 12 months\n",
    "K = 6 # Holding Period Length: K can be between 3 to 12 months\n",
    "\n",
    "_tmp_crsp = crsp_m[['PERMNO','date','RET']].sort_values(['PERMNO','date'])\\\n",
    "    .set_index('date')\n",
    "\n",
    "# Replace missing return with 0\n",
    "_tmp_crsp['RET']=_tmp_crsp['RET'].fillna(0)"
   ]
  },
  {
   "cell_type": "code",
   "execution_count": 19,
   "metadata": {
    "collapsed": true
   },
   "outputs": [],
   "source": [
    "_tmp_crsp['RET'] = pd.to_numeric(_tmp_crsp['RET'], errors='coerce')"
   ]
  },
  {
   "cell_type": "code",
   "execution_count": null,
   "metadata": {
    "collapsed": true
   },
   "outputs": [],
   "source": [
    "for data in _tmp_crsp['RET']:\n",
    "    print(data)"
   ]
  },
  {
   "cell_type": "code",
   "execution_count": 20,
   "metadata": {
    "collapsed": true
   },
   "outputs": [],
   "source": [
    "#4\n",
    "# Calculate rolling cumulative return\n",
    "# by summing log(1+ret) over the formation period\n",
    "\n",
    "#pd.to_numeric(s, errors='coerce')\n",
    "_tmp_crsp['logret']=np.log(1+_tmp_crsp['RET'])\n",
    "umd = _tmp_crsp.groupby(['PERMNO'])['logret'].rolling(J, min_periods=J).sum()\n",
    "umd = umd.reset_index()\n",
    "umd['cumret']=np.exp(umd['logret'])-1"
   ]
  },
  {
   "cell_type": "code",
   "execution_count": 21,
   "metadata": {
    "collapsed": true
   },
   "outputs": [],
   "source": [
    "#5\n",
    "########################################\n",
    "# Formation of 10 Momentum Portfolios  #\n",
    "########################################\n",
    "\n",
    "# For each date: assign ranking 1-10 based on cumret\n",
    "# 1=lowest 10=highest cumret\n",
    "umd=umd.dropna(axis=0, subset=['cumret'])\n",
    "umd['momr']=umd.groupby('date')['cumret'].transform(lambda x: pd.qcut(x, 10, labels=False))\n",
    "\n",
    "umd.momr=umd.momr.astype(int)\n",
    "umd['momr'] = umd['momr']+1\n",
    "umd['hdate1']=umd['date']+MonthBegin(1)\n",
    "umd['hdate2']=umd['date']+MonthEnd(K)\n",
    "umd=umd.rename(columns={'date':'form_date'})\n",
    "umd = umd[['PERMNO','form_date','momr','hdate1','hdate2']]"
   ]
  },
  {
   "cell_type": "code",
   "execution_count": null,
   "metadata": {
    "collapsed": true
   },
   "outputs": [],
   "source": [
    "#6\n",
    "# join rank and return data together\n",
    "# note: this step consumes a lot of memory so takes a while\n",
    "_tmp_ret = crsp_m[['PERMNO','date','RET']]\n",
    "port = pd.merge(_tmp_ret, umd, on=['PERMNO'], how='inner')\n",
    "port = port[(port['hdate1']<=port['date']) & (port['date']<=port['hdate2'])]\n",
    "\n",
    "umd2 = port.sort_values(by=['date','momr','form_date','PERMNO']).drop_duplicates()\n",
    "umd3 = umd2.groupby(['date','momr','form_date'])['RET'].mean().reset_index()\n",
    "\n",
    "# Skip first two years of the sample \n",
    "start_yr = umd3['date'].dt.year.min()+2\n",
    "umd3 = umd3[umd3['date'].dt.year>=start_yr]\n",
    "umd3 = umd3.sort_values(by=['date','momr'])\n",
    "\n",
    "# Create one return series per MOM group every month\n",
    "ewret = umd3.groupby(['date','momr'])['RET'].mean().reset_index()\n",
    "ewstd = umd3.groupby(['date','momr'])['RET'].std().reset_index()\n",
    "ewret = ewret.rename(columns={'ret':'ewret'})\n",
    "ewstd = ewstd.rename(columns={'ret':'ewretstd'})\n",
    "ewretdat = pd.merge(ewret, ewstd, on=['date','momr'], how='inner')\n",
    "ewretdat = ewretdat.sort_values(by=['momr'])\n",
    "\n",
    "# portfolio summary\n",
    "ewretdat.groupby(['momr'])['ewret'].describe()[['count','mean', 'std']]\n",
    "\n",
    "#################################\n",
    "# Long-Short Portfolio Returns  #\n",
    "#################################\n",
    "\n",
    "# Transpose portfolio layout to have columns as portfolio returns\n",
    "ewretdat2 = ewretdat.pivot(index='date', columns='momr', values='ewret')\n",
    "\n",
    "# Add prefix port in front of each column\n",
    "ewretdat2 = ewretdat2.add_prefix('port')\n",
    "ewretdat2 = ewretdat2.rename(columns={'port1':'losers', 'port10':'winners'})\n",
    "ewretdat2['long_short'] = ewretdat2['winners'] - ewretdat2['losers']\n",
    "\n",
    "# Compute Long-Short Portfolio Cumulative Returns\n",
    "ewretdat3 = ewretdat2\n",
    "ewretdat3['1+losers']=1+ewretdat3['losers']\n",
    "ewretdat3['1+winners']=1+ewretdat3['winners']\n",
    "ewretdat3['1+ls'] = 1+ewretdat3['long_short']\n",
    "\n",
    "ewretdat3['cumret_winners']=ewretdat3['1+winners'].cumprod()-1\n",
    "ewretdat3['cumret_losers']=ewretdat3['1+losers'].cumprod()-1\n",
    "ewretdat3['cumret_long_short']=ewretdat3['1+ls'].cumprod()-1\n",
    "\n",
    "#################################\n",
    "# Portfolio Summary Statistics  #\n",
    "################################# \n",
    "\n",
    "# Mean \n",
    "mom_mean = ewretdat3[['winners', 'losers', 'long_short']].mean().to_frame()\n",
    "mom_mean = mom_mean.rename(columns={0:'mean'}).reset_index()\n",
    "\n",
    "# T-Value and P-Value\n",
    "t_losers = pd.Series(stats.ttest_1samp(ewretdat3['losers'],0.0)).to_frame().T\n",
    "t_winners = pd.Series(stats.ttest_1samp(ewretdat3['winners'],0.0)).to_frame().T\n",
    "t_long_short = pd.Series(stats.ttest_1samp(ewretdat3['long_short'],0.0)).to_frame().T\n",
    "\n",
    "t_losers['momr']='losers'\n",
    "t_winners['momr']='winners'\n",
    "t_long_short['momr']='long_short'\n",
    "\n",
    "t_output =pd.concat([t_winners, t_losers, t_long_short])\\\n",
    "    .rename(columns={0:'t-stat', 1:'p-value'})\n",
    "\n",
    "# Combine mean, t and p\n",
    "mom_output = pd.merge(mom_mean, t_output, on=['momr'], how='inner')\n"
   ]
  },
  {
   "cell_type": "code",
   "execution_count": null,
   "metadata": {
    "collapsed": true
   },
   "outputs": [],
   "source": [
    "#################################\n",
    "# Long-Short Portfolio Returns  #\n",
    "#################################\n",
    "\n",
    "# Transpose portfolio layout to have columns as portfolio returns\n",
    "ewretdat2 = ewretdat.pivot(index='date', columns='momr', values='ewret')\n",
    "\n",
    "# Add prefix port in front of each column\n",
    "ewretdat2 = ewretdat2.add_prefix('port')\n",
    "ewretdat2 = ewretdat2.rename(columns={'port1':'losers', 'port10':'winners'})\n",
    "ewretdat2['long_short'] = ewretdat2['winners'] - ewretdat2['losers']\n",
    "\n",
    "# Compute Long-Short Portfolio Cumulative Returns\n",
    "ewretdat3 = ewretdat2\n",
    "ewretdat3['1+losers']=1+ewretdat3['losers']\n",
    "ewretdat3['1+winners']=1+ewretdat3['winners']\n",
    "ewretdat3['1+ls'] = 1+ewretdat3['long_short']\n",
    "\n",
    "ewretdat3['cumret_winners']=ewretdat3['1+winners'].cumprod()-1\n",
    "ewretdat3['cumret_losers']=ewretdat3['1+losers'].cumprod()-1\n",
    "ewretdat3['cumret_long_short']=ewretdat3['1+ls'].cumprod()-1\n"
   ]
  },
  {
   "cell_type": "code",
   "execution_count": 66,
   "metadata": {},
   "outputs": [
    {
     "name": "stdout",
     "output_type": "stream",
     "text": [
      "0.019608\n",
      "0.038462\n",
      "0.017778\n",
      "0.074074\n",
      "-0.034483\n",
      "0.017143\n",
      "0.035714\n",
      "0.275862\n",
      "-0.027027\n",
      "0.070423\n"
     ]
    }
   ],
   "source": [
    "for i,data in zip(range(10),cleanedcrsp['RET']):\n",
    "    a = float(data)\n",
    "    print(a)"
   ]
  },
  {
   "cell_type": "code",
   "execution_count": 65,
   "metadata": {},
   "outputs": [
    {
     "data": {
      "text/plain": [
       "float"
      ]
     },
     "execution_count": 65,
     "metadata": {},
     "output_type": "execute_result"
    }
   ],
   "source": [
    "type(a)"
   ]
  },
  {
   "cell_type": "code",
   "execution_count": null,
   "metadata": {
    "collapsed": true
   },
   "outputs": [],
   "source": [
    "NewMergedData['date'] = pd.to_datatime "
   ]
  },
  {
   "cell_type": "code",
   "execution_count": null,
   "metadata": {
    "collapsed": true
   },
   "outputs": [],
   "source": [
    "cusip = accounting.drop_duplicates(['cusip'])\n",
    "cusip"
   ]
  },
  {
   "cell_type": "code",
   "execution_count": null,
   "metadata": {
    "collapsed": true,
    "scrolled": true
   },
   "outputs": [],
   "source": [
    "#For testing the correctness of extracting year function\n",
    "for date, year in zip(accounting['datadate'],accounting['acc_year']):\n",
    "    if str(date).startswith(str(year)):\n",
    "        #print('True')\n",
    "        continue\n",
    "    else:\n",
    "        print(date.index)\n",
    "print('Done!')        "
   ]
  },
  {
   "cell_type": "code",
   "execution_count": null,
   "metadata": {
    "collapsed": true
   },
   "outputs": [],
   "source": [
    "accounting['acc_year'] = accounting['datadate'].apply(lambda x: int(x/10000))"
   ]
  },
  {
   "cell_type": "code",
   "execution_count": null,
   "metadata": {
    "collapsed": true
   },
   "outputs": [],
   "source": [
    "for i in range(0, 10):\n",
    "    print (accounting.iloc[i]['datadate'], accounting.iloc[i]['cusip'])"
   ]
  },
  {
   "cell_type": "code",
   "execution_count": null,
   "metadata": {
    "collapsed": true
   },
   "outputs": [],
   "source": [
    "def extendDataFrame(crspNew,accounting):\n",
    "    for header in accounting.columns:\n",
    "        crspNew[header] = '0'"
   ]
  },
  {
   "cell_type": "code",
   "execution_count": null,
   "metadata": {
    "collapsed": true
   },
   "outputs": [],
   "source": [
    "crspNew[:10]"
   ]
  },
  {
   "cell_type": "code",
   "execution_count": null,
   "metadata": {
    "collapsed": true
   },
   "outputs": [],
   "source": [
    "extendDataFrame(crspNew,accounting)"
   ]
  },
  {
   "cell_type": "code",
   "execution_count": null,
   "metadata": {
    "collapsed": true
   },
   "outputs": [],
   "source": [
    "crspNew.columns"
   ]
  },
  {
   "cell_type": "code",
   "execution_count": null,
   "metadata": {
    "collapsed": true
   },
   "outputs": [],
   "source": [
    "crsp.columns"
   ]
  },
  {
   "cell_type": "code",
   "execution_count": null,
   "metadata": {
    "collapsed": true
   },
   "outputs": [],
   "source": [
    "mergeData(crspNew,accounting)"
   ]
  },
  {
   "cell_type": "code",
   "execution_count": null,
   "metadata": {
    "collapsed": true
   },
   "outputs": [],
   "source": [
    "pd.merge(df2,df1,on='key',how='left') "
   ]
  },
  {
   "cell_type": "code",
   "execution_count": null,
   "metadata": {
    "collapsed": true
   },
   "outputs": [],
   "source": [
    "left = pd.DataFrame({'key': ['K0', 'K1', 'K2', 'K3'],\n",
    "                    'A': ['A0', 'A1', 'A2', 'A3'], \n",
    "                    'B': ['B0', 'B1', 'B2', 'B3']})\n",
    "right = pd.DataFrame({'key': ['K1','K4','K6'],\n",
    "                    'C': ['C0','C1','d'],\n",
    "                    'D': ['D0','D1','e']})"
   ]
  },
  {
   "cell_type": "code",
   "execution_count": null,
   "metadata": {
    "collapsed": true
   },
   "outputs": [],
   "source": [
    "#res = left.join(right,on='key',lsuffix='_left',rsuffix='_right')\n",
    "res=pd.merge(left,right,on='key',how='left') \n",
    "print(res)"
   ]
  },
  {
   "cell_type": "code",
   "execution_count": null,
   "metadata": {
    "collapsed": true
   },
   "outputs": [],
   "source": [
    "right2 = pd.DataFrame({'key': ['K1'],\n",
    "                    'C': ['C0'], \n",
    "                    'D': ['D0']})"
   ]
  }
 ],
 "metadata": {
  "kernelspec": {
   "display_name": "Python 3",
   "language": "python",
   "name": "python3"
  },
  "language_info": {
   "codemirror_mode": {
    "name": "ipython",
    "version": 3
   },
   "file_extension": ".py",
   "mimetype": "text/x-python",
   "name": "python",
   "nbconvert_exporter": "python",
   "pygments_lexer": "ipython3",
   "version": "3.6.2"
  }
 },
 "nbformat": 4,
 "nbformat_minor": 2
}
